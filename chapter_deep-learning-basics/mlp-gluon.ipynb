{
 "cells": [
  {
   "cell_type": "markdown",
   "metadata": {},
   "source": [
    "# 多层感知机的简洁实现\n",
    "\n",
    "下面我们使用Gluon来实现上一节中的多层感知机。首先导入所需的包或模块。\n",
    "\n",
    "1.定义模型并初始化\n",
    "2.读取数据并训练模型"
   ]
  },
  {
   "cell_type": "code",
   "execution_count": 1,
   "metadata": {},
   "outputs": [],
   "source": [
    "import d2lzh as d2l\n",
    "from mxnet import gluon, init\n",
    "from mxnet.gluon import loss as gloss, nn"
   ]
  },
  {
   "cell_type": "markdown",
   "metadata": {},
   "source": [
    "## 1.定义模型并初始化\n",
    "\n",
    "和softmax回归唯一的不同在于，我们多加了一个全连接层作为隐藏层。它的隐藏单元个数为256，并使用ReLU函数作为激活函数。"
   ]
  },
  {
   "cell_type": "code",
   "execution_count": 2,
   "metadata": {
    "attributes": {
     "classes": [],
     "id": "",
     "n": "5"
    }
   },
   "outputs": [],
   "source": [
    "net = nn.Sequential()\n",
    "net.add(nn.Dense(256, activation='relu'),\n",
    "#         nn.Dense(32, activation='relu'),\n",
    "        nn.Dense(10))\n",
    "net.initialize(init.Normal(sigma=0.01))"
   ]
  },
  {
   "cell_type": "markdown",
   "metadata": {},
   "source": [
    "## 2.读取数据并训练模型\n",
    "\n",
    "我们使用与[“softmax回归的简洁实现”](softmax-regression-gluon.ipynb)一节中训练softmax回归几乎相同的步骤来读取数据并训练模型。"
   ]
  },
  {
   "cell_type": "code",
   "execution_count": 3,
   "metadata": {
    "attributes": {
     "classes": [],
     "id": "",
     "n": "6"
    }
   },
   "outputs": [
    {
     "name": "stdout",
     "output_type": "stream",
     "text": [
      "epoch 1, loss 0.7844, train acc 0.707, test acc 0.822\n",
      "epoch 2, loss 0.4906, train acc 0.818, test acc 0.843\n",
      "epoch 3, loss 0.4362, train acc 0.838, test acc 0.850\n",
      "epoch 4, loss 0.3947, train acc 0.853, test acc 0.858\n",
      "epoch 5, loss 0.3668, train acc 0.865, test acc 0.867\n"
     ]
    }
   ],
   "source": [
    "batch_size = 256\n",
    "train_iter, test_iter = d2l.load_data_fashion_mnist(batch_size)\n",
    "\n",
    "loss = gloss.SoftmaxCrossEntropyLoss()\n",
    "trainer = gluon.Trainer(net.collect_params(), 'sgd', {'learning_rate': 0.5})\n",
    "num_epochs = 5\n",
    "d2l.train_ch3(net, train_iter, test_iter, loss, num_epochs, batch_size, None,\n",
    "              None, trainer)"
   ]
  },
  {
   "cell_type": "markdown",
   "metadata": {},
   "source": [
    "## 小结\n",
    "\n",
    "* 通过Gluon可以更简洁地实现多层感知机。\n",
    "\n",
    "## 练习\n",
    "\n",
    "* 尝试多加入几个隐藏层，对比上一节中从零开始的实现。\n",
    "* 使用其他的激活函数，看看对结果的影响。\n",
    "\n",
    "\n",
    "\n",
    "## 扫码直达[讨论区](https://discuss.gluon.ai/t/topic/738)\n",
    "\n",
    "![](../img/qr_mlp-gluon.svg)"
   ]
  },
  {
   "cell_type": "markdown",
   "metadata": {},
   "source": [
    "1.答：情况大致一样\n",
    "\n",
    "2.激活函数：\n",
    "\n",
    "'relu'：{epoch 1, loss 0.8450, train acc 0.687, test acc 0.820\n",
    "epoch 2, loss 0.4873, train acc 0.819, test acc 0.851\n",
    "epoch 3, loss 0.4330, train acc 0.840, test acc 0.862\n",
    "epoch 4, loss 0.3979, train acc 0.853, test acc 0.863\n",
    "epoch 5, loss 0.3732, train acc 0.863, test acc 0.869}\n",
    "\n",
    "\n",
    "'sigmoid'：{epoch 1, loss 1.0597, train acc 0.605, test acc 0.770\n",
    "epoch 2, loss 0.5773, train acc 0.786, test acc 0.808\n",
    "epoch 3, loss 0.5084, train acc 0.814, test acc 0.827\n",
    "epoch 4, loss 0.4696, train acc 0.830, test acc 0.841\n",
    "epoch 5, loss 0.4487, train acc 0.838, test acc 0.836}\n",
    "\n",
    "'softrelu'：epoch 1, loss 0.9588, train acc 0.652, test acc 0.803\n",
    "epoch 2, loss 0.5220, train acc 0.805, test acc 0.836\n",
    "epoch 3, loss 0.4634, train acc 0.829, test acc 0.847\n",
    "epoch 4, loss 0.4317, train acc 0.841, test acc 0.844\n",
    "epoch 5, loss 0.4118, train acc 0.850, test acc 0.863\n",
    "\n",
    "'softsign'：{epoch 1, loss 0.7416, train acc 0.730, test acc 0.823\n",
    "epoch 2, loss 0.5101, train acc 0.813, test acc 0.832\n",
    "epoch 3, loss 0.4600, train acc 0.831, test acc 0.843\n",
    "epoch 4, loss 0.4348, train acc 0.841, test acc 0.846\n",
    "epoch 5, loss 0.4155, train acc 0.848, test acc 0.858} \n",
    "\n",
    "'tanh'{epoch 1, loss 0.7739, train acc 0.713, test acc 0.809\n",
    "epoch 2, loss 0.5221, train acc 0.809, test acc 0.831\n",
    "epoch 3, loss 0.4636, train acc 0.832, test acc 0.856\n",
    "epoch 4, loss 0.4304, train acc 0.843, test acc 0.849\n",
    "epoch 5, loss 0.4134, train acc 0.849, test acc 0.855}"
   ]
  }
 ],
 "metadata": {
  "kernelspec": {
   "display_name": "Python 3",
   "language": "python",
   "name": "python3"
  },
  "language_info": {
   "codemirror_mode": {
    "name": "ipython",
    "version": 3
   },
   "file_extension": ".py",
   "mimetype": "text/x-python",
   "name": "python",
   "nbconvert_exporter": "python",
   "pygments_lexer": "ipython3",
   "version": "3.6.9"
  }
 },
 "nbformat": 4,
 "nbformat_minor": 2
}
